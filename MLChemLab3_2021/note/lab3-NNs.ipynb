{
 "cells": [
  {
   "cell_type": "markdown",
   "id": "f23a5dd1-2337-4786-af1c-615db0d4f8ab",
   "metadata": {},
   "source": [
    "## MLChem Lab3 Neural Networks\n",
    "MNIST hand-written digit classification with Convolutional Neural Networks."
   ]
  },
  {
   "cell_type": "markdown",
   "id": "000ac9dc-629b-4aab-968f-40d9ccf71cb2",
   "metadata": {},
   "source": [
    "### 1. Data Preparation\n",
    "http://yann.lecun.com/exdb/mnist/"
   ]
  },
  {
   "cell_type": "code",
   "execution_count": 1,
   "id": "f82afdf9-7218-4a2b-9d00-f52f090b9700",
   "metadata": {},
   "outputs": [
    {
     "name": "stdout",
     "output_type": "stream",
     "text": [
      "trainset size:  60000\n",
      "testset size:  10000\n",
      "Shape (Channel, X, Y):  torch.Size([1, 28, 28])     Label:  5\n",
      "Shape (Channel, X, Y):  torch.Size([1, 28, 28])     Label:  0\n",
      "Shape (Channel, X, Y):  torch.Size([1, 28, 28])     Label:  4\n",
      "Shape (Channel, X, Y):  torch.Size([1, 28, 28])     Label:  1\n",
      "Shape (Channel, X, Y):  torch.Size([1, 28, 28])     Label:  9\n",
      "Shape (Channel, X, Y):  torch.Size([1, 28, 28])     Label:  2\n",
      "Shape (Channel, X, Y):  torch.Size([1, 28, 28])     Label:  1\n",
      "Shape (Channel, X, Y):  torch.Size([1, 28, 28])     Label:  3\n",
      "Shape (Channel, X, Y):  torch.Size([1, 28, 28])     Label:  1\n",
      "Shape (Channel, X, Y):  torch.Size([1, 28, 28])     Label:  4\n",
      "Shape (Channel, X, Y):  torch.Size([1, 28, 28])     Label:  3\n",
      "Shape (Channel, X, Y):  torch.Size([1, 28, 28])     Label:  5\n",
      "Shape (Channel, X, Y):  torch.Size([1, 28, 28])     Label:  3\n",
      "Shape (Channel, X, Y):  torch.Size([1, 28, 28])     Label:  6\n",
      "Shape (Channel, X, Y):  torch.Size([1, 28, 28])     Label:  1\n",
      "Shape (Channel, X, Y):  torch.Size([1, 28, 28])     Label:  7\n",
      "Shape (Channel, X, Y):  torch.Size([1, 28, 28])     Label:  2\n",
      "Shape (Channel, X, Y):  torch.Size([1, 28, 28])     Label:  8\n",
      "Shape (Channel, X, Y):  torch.Size([1, 28, 28])     Label:  6\n",
      "Shape (Channel, X, Y):  torch.Size([1, 28, 28])     Label:  9\n"
     ]
    }
   ],
   "source": [
    "import torch\n",
    "import torchvision\n",
    "import numpy as np\n",
    "import pandas as pd\n",
    "from torch.utils.data import DataLoader\n",
    "import os\n",
    "\n",
    "# Download MNIST dataset (or load the directly if you have already downloaded them previously)\n",
    "if os.path.exists(\"./data/MNIST\"):\n",
    "    _dl = False\n",
    "else:\n",
    "    _dl = True\n",
    "    \n",
    "transform=torchvision.transforms.Compose([\n",
    "                               torchvision.transforms.ToTensor(),\n",
    "                               torchvision.transforms.Normalize(\n",
    "                                 (0.1307,), (0.3081,))\n",
    "                             ])\n",
    "trainset_all = torchvision.datasets.MNIST('./data', train=True, download=_dl, transform=transform)\n",
    "testset = torchvision.datasets.MNIST('./data', train=False, download=_dl, transform=transform)\n",
    "\n",
    "samples = []\n",
    "print(\"trainset size: \", len(trainset_all))\n",
    "print(\"testset size: \", len(testset))\n",
    "\n",
    "# show information of the first 10 samples in the training dataset\n",
    "for i, x in enumerate(trainset_all):\n",
    "    if len(samples) >= 20:\n",
    "        break\n",
    "    print(\"Shape (Channel, X, Y): \", x[0].shape, \"    Label: \", x[1])\n",
    "    samples.append((x[0].squeeze(), x[1]))"
   ]
  },
  {
   "cell_type": "markdown",
   "id": "e5dbbab3-84fd-4af7-99d4-13e96789959c",
   "metadata": {},
   "source": [
    "#### Data Visualization"
   ]
  },
  {
   "cell_type": "code",
   "execution_count": 2,
   "id": "5d5501c5-f2d3-49b3-aaee-c23b5330d289",
   "metadata": {},
   "outputs": [
    {
     "data": {
      "image/png": "[encoded data removed]",
      "text/plain": [
       "<Figure size 720x216 with 20 Axes>"
      ]
     },
     "metadata": {
      "needs_background": "light"
     },
     "output_type": "display_data"
    }
   ],
   "source": [
    "import matplotlib.pyplot as plt\n",
    "\n",
    "# Visualizing the first 20 samples\n",
    "plt.figure(figsize=(10, 3))\n",
    "for i in range(20):\n",
    "    plt.subplot(2,10,i+1)\n",
    "    plt.imshow(samples[i][0], cmap='gray', interpolation='none')\n",
    "    plt.title(\"Label: \"+str(samples[i][1]))\n",
    "    plt.axis('off')\n",
    "plt.show()"
   ]
  },
  {
   "cell_type": "markdown",
   "id": "7ed6deef-beb7-498f-96b5-b3a2af1a2249",
   "metadata": {},
   "source": [
    "#### Train-Validation-Test split"
   ]
  },
  {
   "cell_type": "code",
   "execution_count": 3,
   "id": "d1f52f24-c021-461d-b035-ff3898d4b739",
   "metadata": {},
   "outputs": [
    {
     "name": "stdout",
     "output_type": "stream",
     "text": [
      "Trainset size:  50000\n",
      "Validation set size:  10000\n"
     ]
    }
   ],
   "source": [
    "from torch.utils.data import random_split\n",
    "\n",
    "SEED = 20211031\n",
    "valid_size = 10000\n",
    "train_size = len(trainset_all) - valid_size\n",
    "\n",
    "trainset, valset = random_split(trainset_all, [train_size, valid_size], generator=torch.Generator().manual_seed(SEED))\n",
    "\n",
    "print(\"Trainset size: \", len(trainset))\n",
    "print(\"Validation set size: \", len(valset))\n"
   ]
  },
  {
   "cell_type": "markdown",
   "id": "3afcd253-2af5-416d-84b4-61f04eee231e",
   "metadata": {},
   "source": [
    "### 2. Model and DataLoader initiation"
   ]
  },
  {
   "cell_type": "code",
   "execution_count": 4,
   "id": "e7b4da18-602e-464e-86f8-28a861263487",
   "metadata": {},
   "outputs": [],
   "source": [
    "# hyperparameters\n",
    "batch_size = 32\n",
    "\n",
    "# for CNN model (conv2d x2 + fc x2)\n",
    "conv1c = 16\n",
    "conv2c = 32\n",
    "conv1k = 5\n",
    "conv2k = 3\n",
    "fc1 = 128\n",
    "fc2 = 10\n",
    "batchnorm = True\n",
    "dropout = 0.1\n",
    "\n",
    "# for training\n",
    "lr = 0.001\n",
    "weight_decay = 1e-5\n"
   ]
  },
  {
   "cell_type": "markdown",
   "id": "5ee85e7b-e0d4-45d0-bdd7-049eaa9e8bcf",
   "metadata": {},
   "source": [
    "#### Build DataLoader object\n",
    "DataLoader is a Class implemented in `torch.utils.data` module, which could load and reorganize your datasets efficiently."
   ]
  },
  {
   "cell_type": "code",
   "execution_count": 5,
   "id": "058aa206-894c-46cb-a334-321f96cf1bd0",
   "metadata": {},
   "outputs": [],
   "source": [
    "trainloader = DataLoader(trainset, batch_size, shuffle = True, drop_last = True)\n",
    "valloader = DataLoader(valset, batch_size, shuffle = False, drop_last = False)\n",
    "testloader = DataLoader(testset, batch_size, shuffle = False, drop_last = False)"
   ]
  },
  {
   "cell_type": "markdown",
   "id": "97bb5962-807b-40d0-bce1-e4e2c8db9e6d",
   "metadata": {},
   "source": [
    "#### CNNModel"
   ]
  },
  {
   "cell_type": "code",
   "execution_count": 6,
   "id": "1babaf8b-c444-4012-8ea7-25e89e7221f4",
   "metadata": {},
   "outputs": [],
   "source": [
    "from torch import nn\n",
    "import torch.nn.functional as F\n",
    "from torch.optim import Adam\n",
    "\n",
    "class CNNModel(nn.Module):\n",
    "    def __init__(self, conv1c, conv2c, conv1k, conv2k, fc1, fc2, batchnorm, dropout):\n",
    "        super(CNNModel, self).__init__()\n",
    "        \n",
    "        self.conv1 = nn.Conv2d(1, conv1c, kernel_size=(conv1k,conv1k))\n",
    "        self.conv2 = nn.Conv2d(conv1c, conv2c, kernel_size=(conv2k,conv2k))\n",
    "        \n",
    "        self.pool = nn.MaxPool2d(kernel_size = 2)\n",
    "        self.dropout = nn.Dropout(p = dropout)\n",
    "        \n",
    "        self.batchnorm = batchnorm\n",
    "        if batchnorm:\n",
    "            self.bn1 = nn.BatchNorm2d(conv1c)\n",
    "            self.bn2 = nn.BatchNorm2d(conv2c)\n",
    "        \n",
    "        final_size = ((28-conv1k+1)//2-conv2k+1)//2\n",
    "        self.fc1 = nn.Linear(conv2c*final_size*final_size, fc1)\n",
    "        self.fc2 = nn.Linear(fc1, fc2)\n",
    "        \n",
    "    def forward(self, x):\n",
    "        # x: [batch_size, 1, 28, 28], assume conv1k=5 and conv2k=3\n",
    "        out = self.conv1(x) # [batch_size, conv1c, 24, 24]\n",
    "        out = F.relu(self.pool(out)) # [batch_size, conv1c, 12, 12]\n",
    "        if self.batchnorm:\n",
    "            out = self.bn1(out) # [batch_size, conv1c, 12, 12]\n",
    "        out = self.conv2(out) # [batch_size, conv2c, 10, 10]\n",
    "        out = F.relu(self.pool(out)) # [batch_size, conv2c, 5, 5]\n",
    "        \n",
    "        if self.batchnorm:\n",
    "            out = self.bn2(out) # [batch_size, conv2c, 5, 5]\n",
    "        out = out.reshape(out.shape[0], -1) # [batch_size, conv2c*25]\n",
    "        out = F.relu(self.fc1(out)) # [batch_size, fc1]\n",
    "        out = self.dropout(out)\n",
    "        out = F.log_softmax(self.fc2(out), dim=1) # [batch_size, fc2]\n",
    "        return out\n",
    "        \n",
    "model_cnn = CNNModel(conv1c, conv2c, conv1k, conv2k, fc1, fc2, batchnorm, dropout)"
   ]
  },
  {
   "cell_type": "markdown",
   "id": "c6e2daa1-8c84-4b51-a8df-b0f6e4070afc",
   "metadata": {},
   "source": [
    "#### naive MLP model\n",
    "We use a naive MLP model as baseline."
   ]
  },
  {
   "cell_type": "code",
   "execution_count": 7,
   "id": "e7245ffe-2c76-493a-82bd-0b307cfaa580",
   "metadata": {},
   "outputs": [],
   "source": [
    "class MLP(nn.Module):\n",
    "    def __init__(self, fc1, fc2, activation, dropout):\n",
    "        super(MLP, self).__init__()\n",
    "        self.dropout = nn.Dropout(p = dropout)\n",
    "        if activation == \"relu\":\n",
    "            self.activation = nn.ReLU()\n",
    "        elif activation == \"sigmoid\":\n",
    "            self.activation = nn.Sigmoid()\n",
    "        self.fc1 = nn.Linear(28*28, fc1)\n",
    "        self.fc2 = nn.Linear(fc1, fc2)\n",
    "        \n",
    "    def forward(self, x):\n",
    "        # x: [batch_size, 1, 28, 28]\n",
    "        out = self.activation(self.fc1(x.reshape(x.shape[0], -1))) # [batch_size, fc1]\n",
    "        out = self.dropout(out)\n",
    "        out = F.log_softmax(self.fc2(out), dim=1) # [batch_size, fc2]\n",
    "        return out\n",
    "\n",
    "model_mlp = MLP(fc1, fc2, activation=\"sigmoid\", dropout=dropout)"
   ]
  },
  {
   "cell_type": "markdown",
   "id": "6dab16b2-5e64-40b7-b763-4fc56cd92472",
   "metadata": {},
   "source": [
    "### 3. Model training and evaluation\n",
    "#### Adam Optimizer\n",
    "https://www.jianshu.com/p/aebcaf8af76e"
   ]
  },
  {
   "cell_type": "markdown",
   "id": "6dcfa02b-1995-4817-bbc2-50d330f970e7",
   "metadata": {},
   "source": [
    "Adam `torch.optim.Adam` is the most popular adaptive optimizer."
   ]
  },
  {
   "cell_type": "code",
   "execution_count": 8,
   "id": "390df8a7-6c50-495b-9b5a-09a41d42414d",
   "metadata": {},
   "outputs": [
    {
     "name": "stdout",
     "output_type": "stream",
     "text": [
      "Training CNN Model.\n",
      "Epoch 0, Batch 0 loss: 2.262733\n",
      "   Accuracy after epoch 0 batch 0: 0.237700\n",
      "Epoch 0, Batch 200 loss: 0.010387\n",
      "   Accuracy after epoch 0 batch 200: 0.968700\n",
      "Epoch 0, Batch 400 loss: 0.289804\n",
      "   Accuracy after epoch 0 batch 400: 0.972800\n",
      "Epoch 0, Batch 600 loss: 0.001645\n",
      "   Accuracy after epoch 0 batch 600: 0.980000\n",
      "Epoch 0, Batch 800 loss: 0.016306\n",
      "   Accuracy after epoch 0 batch 800: 0.979700\n",
      "Epoch 0, Batch 1000 loss: 0.139983\n",
      "   Accuracy after epoch 0 batch 1000: 0.982600\n",
      "Epoch 0, Batch 1200 loss: 0.028965\n",
      "   Accuracy after epoch 0 batch 1200: 0.980200\n",
      "Epoch 0, Batch 1400 loss: 0.006570\n",
      "   Accuracy after epoch 0 batch 1400: 0.982500\n",
      "\n",
      "##### Epoch 0 average loss:  0.0993779614469303  #####\n",
      "\n",
      "Epoch 1, Batch 0 loss: 0.044738\n",
      "   Accuracy after epoch 1 batch 0: 0.984500\n",
      "Epoch 1, Batch 200 loss: 0.070075\n",
      "   Accuracy after epoch 1 batch 200: 0.984400\n",
      "Epoch 1, Batch 400 loss: 0.014370\n",
      "   Accuracy after epoch 1 batch 400: 0.986800\n",
      "Epoch 1, Batch 600 loss: 0.004098\n",
      "   Accuracy after epoch 1 batch 600: 0.984500\n",
      "Epoch 1, Batch 800 loss: 0.035827\n",
      "   Accuracy after epoch 1 batch 800: 0.983500\n",
      "Epoch 1, Batch 1000 loss: 0.003847\n",
      "   Accuracy after epoch 1 batch 1000: 0.982100\n",
      "Epoch 1, Batch 1200 loss: 0.006126\n",
      "   Accuracy after epoch 1 batch 1200: 0.983500\n",
      "Epoch 1, Batch 1400 loss: 0.000567\n",
      "   Accuracy after epoch 1 batch 1400: 0.982900\n",
      "\n",
      "##### Epoch 1 average loss:  0.041891048336008437  #####\n",
      "\n",
      "Epoch 2, Batch 0 loss: 0.003947\n",
      "   Accuracy after epoch 2 batch 0: 0.984100\n",
      "Epoch 2, Batch 200 loss: 0.000465\n",
      "   Accuracy after epoch 2 batch 200: 0.987600\n",
      "Epoch 2, Batch 400 loss: 0.020225\n",
      "   Accuracy after epoch 2 batch 400: 0.985900\n",
      "Epoch 2, Batch 600 loss: 0.001640\n",
      "   Accuracy after epoch 2 batch 600: 0.987600\n",
      "Epoch 2, Batch 800 loss: 0.005960\n",
      "   Accuracy after epoch 2 batch 800: 0.986200\n",
      "Epoch 2, Batch 1000 loss: 0.000686\n",
      "   Accuracy after epoch 2 batch 1000: 0.985500\n",
      "Epoch 2, Batch 1200 loss: 0.009161\n",
      "   Accuracy after epoch 2 batch 1200: 0.987100\n",
      "Epoch 2, Batch 1400 loss: 0.001258\n",
      "   Accuracy after epoch 2 batch 1400: 0.987000\n",
      "\n",
      "##### Epoch 2 average loss:  0.030739418159539778  #####\n",
      "\n",
      "Training MLP Model.\n",
      "Epoch 0, Batch 0 loss: 2.405703\n",
      "   Accuracy after epoch 0 batch 0: 0.112600\n",
      "Epoch 0, Batch 200 loss: 0.276747\n",
      "   Accuracy after epoch 0 batch 200: 0.880100\n",
      "Epoch 0, Batch 400 loss: 0.442185\n",
      "   Accuracy after epoch 0 batch 400: 0.903600\n",
      "Epoch 0, Batch 600 loss: 0.167977\n",
      "   Accuracy after epoch 0 batch 600: 0.911900\n",
      "Epoch 0, Batch 800 loss: 0.393435\n",
      "   Accuracy after epoch 0 batch 800: 0.923200\n",
      "Epoch 0, Batch 1000 loss: 0.421423\n",
      "   Accuracy after epoch 0 batch 1000: 0.921900\n",
      "Epoch 0, Batch 1200 loss: 0.453261\n",
      "   Accuracy after epoch 0 batch 1200: 0.927000\n",
      "Epoch 0, Batch 1400 loss: 0.230226\n",
      "   Accuracy after epoch 0 batch 1400: 0.933800\n",
      "\n",
      "##### Epoch 0 average loss:  0.3776116280288229  #####\n",
      "\n",
      "Epoch 1, Batch 0 loss: 0.300932\n",
      "   Accuracy after epoch 1 batch 0: 0.935500\n",
      "Epoch 1, Batch 200 loss: 0.183281\n",
      "   Accuracy after epoch 1 batch 200: 0.938800\n",
      "Epoch 1, Batch 400 loss: 0.447048\n",
      "   Accuracy after epoch 1 batch 400: 0.942600\n",
      "Epoch 1, Batch 600 loss: 0.062545\n",
      "   Accuracy after epoch 1 batch 600: 0.945100\n",
      "Epoch 1, Batch 800 loss: 0.187411\n",
      "   Accuracy after epoch 1 batch 800: 0.948100\n",
      "Epoch 1, Batch 1000 loss: 0.262075\n",
      "   Accuracy after epoch 1 batch 1000: 0.946900\n",
      "Epoch 1, Batch 1200 loss: 0.469428\n",
      "   Accuracy after epoch 1 batch 1200: 0.947000\n",
      "Epoch 1, Batch 1400 loss: 0.363581\n",
      "   Accuracy after epoch 1 batch 1400: 0.951400\n",
      "\n",
      "##### Epoch 1 average loss:  0.18265875003082385  #####\n",
      "\n",
      "Epoch 2, Batch 0 loss: 0.181037\n",
      "   Accuracy after epoch 2 batch 0: 0.953300\n",
      "Epoch 2, Batch 200 loss: 0.034479\n",
      "   Accuracy after epoch 2 batch 200: 0.950400\n",
      "Epoch 2, Batch 400 loss: 0.615660\n",
      "   Accuracy after epoch 2 batch 400: 0.952400\n",
      "Epoch 2, Batch 600 loss: 0.060088\n",
      "   Accuracy after epoch 2 batch 600: 0.955300\n",
      "Epoch 2, Batch 800 loss: 0.025654\n",
      "   Accuracy after epoch 2 batch 800: 0.957100\n",
      "Epoch 2, Batch 1000 loss: 0.029391\n",
      "   Accuracy after epoch 2 batch 1000: 0.955500\n",
      "Epoch 2, Batch 1200 loss: 0.158383\n",
      "   Accuracy after epoch 2 batch 1200: 0.957000\n",
      "Epoch 2, Batch 1400 loss: 0.141524\n",
      "   Accuracy after epoch 2 batch 1400: 0.960600\n",
      "\n",
      "##### Epoch 2 average loss:  0.13542957092419497  #####\n",
      "\n"
     ]
    }
   ],
   "source": [
    "@torch.no_grad()\n",
    "def evaluation(model, evalloader):\n",
    "    conf_mat = np.zeros((10, 10))\n",
    "    model.eval()\n",
    "    misclassified = []\n",
    "    predicts = []\n",
    "    numT = 0\n",
    "    numF = 0\n",
    "    for i, x in enumerate(evalloader):\n",
    "        image, label = x\n",
    "        pred = torch.argmax(model(image), dim=1)\n",
    "        _T = torch.sum(pred == label).item()\n",
    "        numT += _T\n",
    "        numF += len(label) - _T\n",
    "        for j in range(len(label)):\n",
    "            conf_mat[label[j], pred[j]] += 1\n",
    "            if label[j] != pred[j]:\n",
    "                misclassified.append((image[j], label[j], pred[j]))\n",
    "            predicts.append(pred[j])\n",
    "\n",
    "    model.train()\n",
    "    return numT/(numT+numF), conf_mat, misclassified, predicts\n",
    "\n",
    "def fit(model, trainloader, valloader, lr, weight_decay, max_epoch = 10):\n",
    "    train_batch_losses = []\n",
    "    val_acc = []\n",
    "    \n",
    "    loss_fn = nn.NLLLoss(reduction = \"mean\")\n",
    "    optimizer = Adam(model.parameters(), lr = lr, weight_decay = weight_decay) # Using Adam optimizer\n",
    "    batches_per_epoch = len(trainloader)\n",
    "    \n",
    "    for epoch in range(max_epoch):\n",
    "        epoch_loss = 0\n",
    "        for i, x in enumerate(trainloader):\n",
    "            optimizer.zero_grad()\n",
    "            image, label = x\n",
    "            pred = model(image)\n",
    "            loss = loss_fn(pred, label)\n",
    "            loss.backward()\n",
    "            optimizer.step()\n",
    "            epoch_loss += loss.item()\n",
    "            train_batch_losses.append((epoch*batches_per_epoch+i, loss.item()))\n",
    "            \n",
    "            if (i % 200 == 0):\n",
    "                print(\"Epoch %d, Batch %d loss: %f\"%(epoch, i, loss.item()))\n",
    "                acc, _cm, _mis, _pred = evaluation(model, valloader)\n",
    "                val_acc.append((epoch*batches_per_epoch+i, acc))\n",
    "                print(\"   Accuracy after epoch %d batch %d: %f\"%(epoch, i, acc))\n",
    "        print(\"\\n##### Epoch %d average loss: \"%epoch, epoch_loss/batches_per_epoch, ' #####\\n')\n",
    "    return train_batch_losses, val_acc\n",
    "\n",
    "\n",
    "print(\"Training CNN Model.\")\n",
    "model_cnn.train()\n",
    "train_losses_cnn, val_acc_cnn = fit(model_cnn, trainloader, valloader, lr = lr, weight_decay=weight_decay, max_epoch = 3)\n",
    "\n",
    "print(\"Training MLP Model.\")\n",
    "model_mlp.train()\n",
    "train_losses_mlp, val_acc_mlp = fit(model_mlp, trainloader, valloader, lr = lr, weight_decay=weight_decay, max_epoch = 3)"
   ]
  },
  {
   "cell_type": "markdown",
   "id": "a6066c65-1230-447e-96bd-7577e12f8040",
   "metadata": {},
   "source": [
    "#### Plot the loss curve\n",
    "You can visualize the "
   ]
  },
  {
   "cell_type": "code",
   "execution_count": 9,
   "id": "739d5f36-889b-4543-af74-a5fcd25b9bdd",
   "metadata": {},
   "outputs": [
    {
     "data": {
      "image/png": "[encoded data removed]",
      "text/plain": [
       "<Figure size 720x360 with 2 Axes>"
      ]
     },
     "metadata": {
      "needs_background": "light"
     },
     "output_type": "display_data"
    }
   ],
   "source": [
    "plt.figure(figsize=(10,5))\n",
    "plt.subplot(1,2,1)\n",
    "_x = [i for i, j in train_losses_cnn]\n",
    "_y_cnn = [j for i, j in train_losses_cnn]\n",
    "_y_mlp = [j for i, j in train_losses_mlp]\n",
    "\n",
    "plt.plot(_x, _y_cnn, label=\"CNN\")\n",
    "plt.plot(_x, _y_mlp, label=\"MLP\")\n",
    "plt.title(\"training loss\")\n",
    "plt.xlabel(\"batch\")\n",
    "plt.legend()\n",
    "\n",
    "plt.subplot(1,2,2)\n",
    "_x = [i for i, j in val_acc_cnn]\n",
    "_y_cnn = [j for i, j in val_acc_cnn]\n",
    "_y_mlp = [j for i, j in val_acc_mlp]\n",
    "\n",
    "plt.plot(_x, _y_cnn, label=\"CNN\")\n",
    "plt.plot(_x, _y_mlp, label=\"MLP\")\n",
    "plt.ylim(0.8,1.0)\n",
    "plt.xlabel(\"batch\")\n",
    "plt.title(\"validation accuracy\")\n",
    "plt.legend()\n",
    "\n",
    "plt.show()"
   ]
  },
  {
   "cell_type": "markdown",
   "id": "9d0f85e8-0a4f-4317-b63e-c830bf5db7c4",
   "metadata": {},
   "source": [
    "#### Model Evaluation"
   ]
  },
  {
   "cell_type": "code",
   "execution_count": 10,
   "id": "0d807893-13e7-4e07-b114-7c96ffd3f0aa",
   "metadata": {},
   "outputs": [
    {
     "name": "stdout",
     "output_type": "stream",
     "text": [
      "CNN Validation Accuracy:  0.9873\n",
      "CNN Validation Confusion Matrix: \n",
      "       0     1    2    3    4    5    6     7    8     9\n",
      "0  1016     0    0    0    0    0    4     0    0     1\n",
      "1     0  1089    5    1    0    0    0     2    0     0\n",
      "2     1     1  980    4    1    0    0     9    0     1\n",
      "3     0     1    5  973    0    1    0     1    1     0\n",
      "4     1     1    1    0  951    0    2     0    0     8\n",
      "5     1     0    0    6    0  883    8     0    1     1\n",
      "6     2     1    0    0    1    2  983     0    0     0\n",
      "7     0     6    3    0    6    0    0  1040    2     6\n",
      "8     0     1    2    1    6    1    2     1  926     2\n",
      "9     0     1    0    1    3    5    0     1    2  1032\n",
      "MLP Validation Accuracy:  0.9572\n",
      "MLP Validation Confusion Matrix: \n",
      "      0     1    2    3    4    5    6    7    8     9\n",
      "0  997     1    5    0    0    3    8    1    5     1\n",
      "1    0  1085    5    1    1    0    0    2    1     2\n",
      "2    1     2  960    5    8    1    1   11    6     2\n",
      "3    1     2   17  938    0    7    1    4   10     2\n",
      "4    1     3    6    0  886    0    6    0    0    62\n",
      "5    6     4    3   16    3  842   12    0    4    10\n",
      "6    2     5    3    0    1    0  975    0    3     0\n",
      "7    3     6   18    4   14    0    0  997    2    19\n",
      "8    3    21    9   12    4    2    5    0  877     9\n",
      "9    2     4    0    6    4    4    0    9    1  1015\n"
     ]
    }
   ],
   "source": [
    "import pandas as pd\n",
    "\n",
    "CNN_val_acc, CNN_val_cm, CNN_val_mis, CNN_val_pred = evaluation(model_cnn, valloader)\n",
    "MLP_val_acc, MLP_val_cm, MLP_val_mis, MLP_val_pred = evaluation(model_mlp, valloader)\n",
    "CNN_val_cm = pd.DataFrame(CNN_val_cm, dtype=int)\n",
    "MLP_val_cm = pd.DataFrame(MLP_val_cm, dtype=int)\n",
    "\n",
    "print(\"CNN Validation Accuracy: \", CNN_val_acc)\n",
    "print(\"CNN Validation Confusion Matrix: \\n\", CNN_val_cm)\n",
    "print(\"MLP Validation Accuracy: \", MLP_val_acc)\n",
    "print(\"MLP Validation Confusion Matrix: \\n\", MLP_val_cm)"
   ]
  },
  {
   "cell_type": "markdown",
   "id": "d245ab1d-bfc2-45f3-a802-5c5f8ba2badd",
   "metadata": {},
   "source": [
    "#### Visualize the misclassified samples for CNN model"
   ]
  },
  {
   "cell_type": "code",
   "execution_count": 11,
   "id": "57724512-0959-478f-9077-db6346fb6fdc",
   "metadata": {},
   "outputs": [
    {
     "name": "stdout",
     "output_type": "stream",
     "text": [
      "Number of Misclassified samples:  127\n",
      "Visualizing the first 40 misclassified samples\n"
     ]
    },
    {
     "data": {
      "image/png": "[encoded data removed]",
      "text/plain": [
       "<Figure size 864x504 with 40 Axes>"
      ]
     },
     "metadata": {
      "needs_background": "light"
     },
     "output_type": "display_data"
    }
   ],
   "source": [
    "print(\"Number of Misclassified samples: \", len(CNN_val_mis))\n",
    "print(\"Visualizing the first 40 misclassified samples\")\n",
    "plt.figure(figsize=(12,7))\n",
    "for i in range(40):\n",
    "    img, label, pred = CNN_val_mis[i]\n",
    "    img = img.squeeze()\n",
    "    plt.subplot(4,10,i+1)\n",
    "    plt.imshow(img, cmap='gray', interpolation='none')\n",
    "    plt.title(\"Label: \"+str(label.item())+\"\\nPredict: \"+str(pred.item()))\n",
    "    plt.axis('off')\n",
    "plt.show()"
   ]
  },
  {
   "cell_type": "markdown",
   "id": "650c13f5-b115-40f8-a42e-e8fc97913785",
   "metadata": {},
   "source": [
    "#### Classifying your custom handwritten digits"
   ]
  },
  {
   "cell_type": "code",
   "execution_count": 12,
   "id": "161731b5-bce4-4638-9fe7-e6fe150ba8b2",
   "metadata": {},
   "outputs": [
    {
     "name": "stdout",
     "output_type": "stream",
     "text": [
      "Mean:  42.99068832397461   Std: 92.2778091430664\n",
      "My dataset size:  10\n",
      "Accuracy on custom dataset:  1.0\n",
      "Visualizing custom samples\n"
     ]
    },
    {
     "data": {
      "image/png": "[encoded data removed]",
      "text/plain": [
       "<Figure size 432x288 with 10 Axes>"
      ]
     },
     "metadata": {
      "needs_background": "light"
     },
     "output_type": "display_data"
    }
   ],
   "source": [
    "# input\n",
    "path = \"./workdir/handwritten\"\n",
    "images_path = os.listdir(path)\n",
    "images = []\n",
    "\n",
    "for i in images_path:\n",
    "    label = int(i.split('_')[1].split('.')[0])\n",
    "    image = torchvision.io.read_image(os.path.join(path, i)).float()[0:3,:,:]\n",
    "    image = image.mean(dim=0).unsqueeze(0)\n",
    "    images.append((image, label))\n",
    "\n",
    "_values = torch.concat([i for i,j in images]).reshape(-1)\n",
    "_mean = _values.mean().item()\n",
    "_sd = _values.std().item()\n",
    "print(\"Mean: \",_mean, \"  Std:\",_sd)\n",
    "mytransform = torchvision.transforms.Normalize((_mean), (_sd))\n",
    "# mytransform = torchvision.transforms.Normalize((0.1307,), (0.3081,))\n",
    "\n",
    "for i in range(len(images)):\n",
    "    img = mytransform(images[i][0])\n",
    "    images[i] = (img, images[i][1])    \n",
    "\n",
    "from torch.utils.data import Dataset\n",
    "\n",
    "class mySet(Dataset):\n",
    "    def __init__(self, images):\n",
    "        super(mySet, self).__init__()\n",
    "        self.data = images\n",
    "    def __getitem__(self, x):\n",
    "        return self.data[x]\n",
    "    def __len__(self):\n",
    "        return len(self.data)\n",
    "\n",
    "myevalset = mySet(images)\n",
    "print(\"My dataset size: \", len(myevalset))\n",
    "\n",
    "myloader = DataLoader(mySet(images), shuffle=False, drop_last = False, batch_size = batch_size) \n",
    "myacc, mycm, mymis, mypred = evaluation(model_cnn, myloader)\n",
    "\n",
    "print(\"Accuracy on custom dataset: \", myacc)\n",
    "\n",
    "print(\"Visualizing custom samples\")\n",
    "plt.figure()\n",
    "for i in range(len(myevalset)):\n",
    "    img, label = myevalset[i]\n",
    "    pred = mypred[i]\n",
    "    img = img.squeeze()\n",
    "    plt.subplot(2,5,i+1)\n",
    "    plt.imshow(img, cmap='gray', interpolation='none')\n",
    "    plt.title(\"Label: \"+str(label)+\"\\nPredict: \"+str(pred.item()))\n",
    "    plt.axis('off')\n",
    "plt.show()"
   ]
  },
  {
   "cell_type": "markdown",
   "id": "747d1dfe-4eb3-4a58-ab4b-692f2e80d72c",
   "metadata": {},
   "source": [
    "### 4. Save and load models\n",
    "https://pytorch.org/tutorials/recipes/recipes/saving_and_loading_a_general_checkpoint.html\n",
    "#### Save and load model parameters only"
   ]
  },
  {
   "cell_type": "code",
   "execution_count": 13,
   "id": "6eb99e6a-d805-4632-a4ea-e709335f35b5",
   "metadata": {},
   "outputs": [
    {
     "data": {
      "text/plain": [
       "<All keys matched successfully>"
      ]
     },
     "execution_count": 13,
     "metadata": {},
     "output_type": "execute_result"
    }
   ],
   "source": [
    "os.makedirs(\"./checkpoints\", exist_ok = True)\n",
    "\n",
    "# save parameters only\n",
    "torch.save(model_cnn.state_dict(), \"./checkpoints/model_cnn.pt\")\n",
    "torch.save(model_mlp.state_dict(), \"./checkpoints/model_mlp.pt\")\n",
    "\n",
    "# a new instance of the model\n",
    "model_cnn = CNNModel(conv1c, conv2c, conv1k, conv2k, fc1, fc2, batchnorm, dropout)\n",
    "model_mlp = MLP(fc1, fc2, activation=\"sigmoid\", dropout=dropout)\n",
    "\n",
    "\n",
    "# load parameters\n",
    "model_cnn.load_state_dict(torch.load(\"./checkpoints/model_cnn.pt\"))\n",
    "model_mlp.load_state_dict(torch.load(\"./checkpoints/model_mlp.pt\"))"
   ]
  },
  {
   "cell_type": "markdown",
   "id": "7d91face-bbd7-4eb5-ae9e-91f63d758b55",
   "metadata": {},
   "source": [
    "#### Save and load general checkpoints"
   ]
  },
  {
   "cell_type": "code",
   "execution_count": 14,
   "id": "b1b1d7d2-eacd-4969-b4fa-ac0f62ccb795",
   "metadata": {},
   "outputs": [],
   "source": [
    "# save a general checkpoint\n",
    "def save_checkpoint(model, optimizer, epoch, loss, path):\n",
    "    if optimizer is None:\n",
    "        optim_state = None\n",
    "    else:\n",
    "        optim_state = optimizer.state_dict()\n",
    "    checkpoint = {\n",
    "        \"model_state_dict\": model.state_dict(),\n",
    "        \"epoch\": epoch,\n",
    "        \"loss\": loss,\n",
    "        \"optimizer_state_dict\": optim_state\n",
    "    }\n",
    "    torch.save(checkpoint, path)\n",
    "\n",
    "def load_checkpoint(model, optimizer, path):\n",
    "    checkpoint = torch.load(path)\n",
    "    model.load_state_dict(checkpoint['model_state_dict'])\n",
    "    if optimizer is not None:\n",
    "        optimizer.load_state_dict(checkpoint['optimizer_state_dict'])\n",
    "    epoch = checkpoint['epoch']\n",
    "    loss = checkpoint['loss']\n",
    "    \n",
    "    return model, optimizer, epoch, loss\n",
    "\n",
    "# Save checkpoints\n",
    "save_checkpoint(model_cnn, optimizer=None, epoch=None, loss=None, path=\"./checkpoints/model_cnn.pt\")\n",
    "save_checkpoint(model_mlp, optimizer=None, epoch=None, loss=None, path=\"./checkpoints/model_mlp.pt\")\n",
    "\n",
    "# a new instance of the model\n",
    "model_cnn = CNNModel(conv1c, conv2c, conv1k, conv2k, fc1, fc2, batchnorm, dropout)\n",
    "model_mlp = MLP(fc1, fc2, activation=\"sigmoid\", dropout=dropout)\n",
    "\n",
    "# Load checkpoints\n",
    "model_cnn, optim, epoch, loss = load_checkpoint(model_cnn, optimizer=None, path=\"./checkpoints/model_cnn.pt\")\n",
    "model_mlp, optim, epoch, loss = load_checkpoint(model_mlp, optimizer=None, path=\"./checkpoints/model_mlp.pt\")"
   ]
  }
 ],
 "metadata": {
  "kernelspec": {
   "display_name": "Python 3 (ipykernel)",
   "language": "python",
   "name": "python3"
  },
  "language_info": {
   "codemirror_mode": {
    "name": "ipython",
    "version": 3
   },
   "file_extension": ".py",
   "mimetype": "text/x-python",
   "name": "python",
   "nbconvert_exporter": "python",
   "pygments_lexer": "ipython3",
   "version": "3.9.7"
  }
 },
 "nbformat": 4,
 "nbformat_minor": 5
}
